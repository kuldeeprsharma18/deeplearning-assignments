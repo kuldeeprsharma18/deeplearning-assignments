{
 "cells": [
  {
   "cell_type": "markdown",
   "metadata": {},
   "source": [
    "<h2 align='center'> Exception Handling Assignment </h2>"
   ]
  },
  {
   "cell_type": "markdown",
   "metadata": {},
   "source": [
    "*Write a function to compute 5/0 and use try/except to catch the exceptions*"
   ]
  },
  {
   "cell_type": "code",
   "execution_count": 1,
   "metadata": {},
   "outputs": [
    {
     "name": "stdout",
     "output_type": "stream",
     "text": [
      "Division by zero error, use any other number\n"
     ]
    }
   ],
   "source": [
    "def divide(num):\n",
    "    try:\n",
    "        div = num/0\n",
    "    except ZeroDivisionError as divzero:\n",
    "        print(\"Division by zero error, use any other number\")\n",
    "    \n",
    "divide(5)"
   ]
  },
  {
   "cell_type": "markdown",
   "metadata": {},
   "source": [
    "*Implement a Python program to generate all sentences where subject is in [\"Americans\", \"Indians\"] and verb is in [\"Play\", \"watch\"] and the object is in [\"Baseball\",\"cricket\"].*\n",
    "\n",
    "*Hint: Subject,Verb and Object should be declared in the program as shown below.*\n",
    "\n",
    "- *subjects=[\"Americans \",\"Indians\"]*\n",
    "- *verbs=[\"play\",\"watch\"]*\n",
    "- *objects=[\"Baseball\",\"Cricket\"]*\n",
    "\n",
    "*Output should come as below:*\n",
    "\n",
    "- *Americans play Baseball.*\n",
    "- *Americans play Cricket.*\n",
    "- *Americans watch Baseball.*\n",
    "- *Americans watch Cricket.*\n",
    "- *Indians play Baseball.*\n",
    "- *Indians play Cricket.*\n",
    "- *Indians watch Baseball.*\n",
    "- *Indians watch Cricket.*"
   ]
  },
  {
   "cell_type": "code",
   "execution_count": 2,
   "metadata": {},
   "outputs": [
    {
     "data": {
      "text/plain": [
       "['Americans  play Baseball ',\n",
       " 'Americans  play Cricket ',\n",
       " 'Americans  watch Baseball ',\n",
       " 'Americans  watch Cricket ',\n",
       " 'Indians play Baseball ',\n",
       " 'Indians play Cricket ',\n",
       " 'Indians watch Baseball ',\n",
       " 'Indians watch Cricket ']"
      ]
     },
     "execution_count": 2,
     "metadata": {},
     "output_type": "execute_result"
    }
   ],
   "source": [
    "subjects=[\"Americans \",\"Indians\"]\n",
    "verbs=[\"play\",\"watch\"]\n",
    "objects=[\"Baseball\",\"Cricket\"]\n",
    "output = [(s+' '+v+' '+o+' ') for s in subjects for v in verbs for o in objects]\n",
    "print(output)"
   ]
  }
 ],
 "metadata": {
  "kernelspec": {
   "display_name": "Python 3",
   "language": "python",
   "name": "python3"
  },
  "language_info": {
   "codemirror_mode": {
    "name": "ipython",
    "version": 3
   },
   "file_extension": ".py",
   "mimetype": "text/x-python",
   "name": "python",
   "nbconvert_exporter": "python",
   "pygments_lexer": "ipython3",
   "version": "3.8.3"
  }
 },
 "nbformat": 4,
 "nbformat_minor": 4
}
