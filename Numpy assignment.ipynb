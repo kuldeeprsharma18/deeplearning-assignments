{
 "cells": [
  {
   "cell_type": "markdown",
   "metadata": {},
   "source": [
    "<h2 align='center'>Numpy Assignment</h2>"
   ]
  },
  {
   "cell_type": "markdown",
   "metadata": {},
   "source": [
    "Write a function so that the columns of the output matrix are powers of the input vector.\n",
    "\n",
    "The order of the powers is determined by the increasing boolean argument. Specifically, when increasing is False, the i-th output column is the input vector raised element-wise to the power of N - i - 1.\n",
    "\n",
    "HINT: Such a matrix with a geometric progression in each row is named for Alexandre-Theophile Vandermonde."
   ]
  },
  {
   "cell_type": "code",
   "execution_count": 1,
   "metadata": {},
   "outputs": [
    {
     "data": {
      "text/plain": [
       "array([[ 1,  1,  1,  1],\n",
       "       [ 8,  4,  2,  1],\n",
       "       [27,  9,  3,  1],\n",
       "       [64, 16,  4,  1]], dtype=int32)"
      ]
     },
     "execution_count": 1,
     "metadata": {},
     "output_type": "execute_result"
    }
   ],
   "source": [
    "import numpy as np\n",
    "# defining the functions\n",
    "def vandermonde(elements_for_array,no_of_columns):\n",
    "    a= np.array(elements_for_array)\n",
    "    N= no_of_columns\n",
    "    return np.column_stack([pow(a,(N-i-1)) for i in range(N)])\n",
    "\n",
    "# printing the output by running the function\n",
    "vandermonde([1,2,3,4],4)"
   ]
  },
  {
   "cell_type": "markdown",
   "metadata": {},
   "source": [
    "Problem Statement 2:\n",
    "\n",
    "Given a sequence of n values x1, x2, ..., xn and a window size k>0, the k-th moving average of the given sequence is defined as follows:\n",
    "The moving average sequence has n-k+1 elements as shown below.\n",
    "The moving averages with k=4 of a ten-value sequence (n=10) is shown below\n",
    "<br>i     1  2  3  4  5  6  7  8  9  10</br>\n",
    "<br>===== == == == == == == == == == ==</br>\n",
    "<br>Input 10 20 30 40 50 60 70 80 90 100</br>\n",
    "<br>y1 25 = (10+20+30+40)/4</br>\n",
    "<br>y2 35 = (20+30+40+50)/4</br>\n",
    "<br>y3 45 = (30+40+50+60)/4</br>\n",
    "<br>y4 55 = (40+50+60+70)/4</br>\n",
    "<br>y5 65 = (50+60+70+80)/4</br>\n",
    "<br>y6 75 = (60+70+80+90)/4</br>\n",
    "<br>y7 85 = (70+80+90+100)/4</br>\n",
    "<br>Thus, the moving average sequence has n-k+1=10-4+1=7 values.</br>\n",
    "\n",
    "Question: Write a function to find moving average in an array over a window:\n",
    "Test it over [3, 5, 7, 2, 8, 10, 11, 65, 72, 81, 99, 100, 150] and window of 3."
   ]
  },
  {
   "cell_type": "code",
   "execution_count": 2,
   "metadata": {},
   "outputs": [
    {
     "data": {
      "text/plain": [
       "array([3.33333333, 5.        , 3.66666667, 3.66666667, 4.        ,\n",
       "       4.16666667, 6.        , 4.83333333])"
      ]
     },
     "execution_count": 2,
     "metadata": {},
     "output_type": "execute_result"
    }
   ],
   "source": [
    "def moving_average(array, window):\n",
    "    sumf = np.cumsum(array, dtype=float) #calculating the cumulative sum of test numbers\n",
    "    sumf[window:] = sumf[window:] - sumf[:-window]\n",
    "    a=sumf[window - 1:] / window\n",
    "    return a\n",
    "\n",
    "# implementing the test array given on to the function created\n",
    "test_array = np.array([3,5,2,8,1,2,9,1.5,7.5,5.5])\n",
    "moving_average(test_array, 3)"
   ]
  }
 ],
 "metadata": {
  "kernelspec": {
   "display_name": "Python 3",
   "language": "python",
   "name": "python3"
  },
  "language_info": {
   "codemirror_mode": {
    "name": "ipython",
    "version": 3
   },
   "file_extension": ".py",
   "mimetype": "text/x-python",
   "name": "python",
   "nbconvert_exporter": "python",
   "pygments_lexer": "ipython3",
   "version": "3.8.3"
  }
 },
 "nbformat": 4,
 "nbformat_minor": 4
}
