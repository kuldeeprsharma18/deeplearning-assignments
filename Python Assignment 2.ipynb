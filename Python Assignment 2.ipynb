{
 "cells": [
  {
   "cell_type": "markdown",
   "metadata": {},
   "source": [
    "<h2 align='center'>Python Assignment 2</h2>"
   ]
  },
  {
   "cell_type": "markdown",
   "metadata": {},
   "source": [
    "*Create the below pattern using nested for loop in Python.*\n",
    "<br>*</br>\n",
    "<br>* *</br>\n",
    "<br>* * *</br>\n",
    "<br>* * * *</br>\n",
    "<br>* * * * *</br>\n",
    "<br>* * * *</br>\n",
    "<br>* * *</br>\n",
    "<br>* *</br>\n",
    "<br>*</br>"
   ]
  },
  {
   "cell_type": "code",
   "execution_count": 1,
   "metadata": {},
   "outputs": [
    {
     "name": "stdout",
     "output_type": "stream",
     "text": [
      "* \r\n",
      "* * \r\n",
      "* * * \r\n",
      "* * * * \r\n",
      "* * * * * \r\n",
      "* * * * \r\n",
      "* * * \r\n",
      "* * \r\n",
      "* \r\n",
      "\r\n"
     ]
    }
   ],
   "source": [
    "lines = 5\n",
    "for i in range(0, lines):\n",
    "    a='*'\n",
    "    for j in range(0, i + 1):\n",
    "        print(a, end=' ')\n",
    "    print(\"\\r\")\n",
    "for i in range(lines, 0, -1):\n",
    "    for j in range(0, i - 1):\n",
    "        print(a, end=' ')\n",
    "    print(\"\\r\")"
   ]
  },
  {
   "cell_type": "markdown",
   "metadata": {},
   "source": [
    "*Write a Python program to reverse a word after accepting the input from the user.\n",
    "<br>Input word: ineuron</br>\n",
    "<br>Output: norueni</br>*"
   ]
  },
  {
   "cell_type": "code",
   "execution_count": 2,
   "metadata": {},
   "outputs": [
    {
     "data": {
      "text/plain": [
       "'norueni'"
      ]
     },
     "execution_count": 2,
     "metadata": {},
     "output_type": "execute_result"
    }
   ],
   "source": [
    "input_word = 'ineuron'\n",
    "output = input_word[::-1]\n",
    "output"
   ]
  }
 ],
 "metadata": {
  "kernelspec": {
   "display_name": "Python 3",
   "language": "python",
   "name": "python3"
  },
  "language_info": {
   "codemirror_mode": {
    "name": "ipython",
    "version": 3
   },
   "file_extension": ".py",
   "mimetype": "text/x-python",
   "name": "python",
   "nbconvert_exporter": "python",
   "pygments_lexer": "ipython3",
   "version": "3.8.3"
  }
 },
 "nbformat": 4,
 "nbformat_minor": 4
}
